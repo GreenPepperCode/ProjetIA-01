{
 "cells": [
  {
   "cell_type": "code",
   "execution_count": 10,
   "metadata": {},
   "outputs": [],
   "source": [
    "import pandas as pd\n",
    "\n",
    "def load_and_clean_data(movies_path: str, credits_path: str):\n",
    "    # Chargement des données\n",
    "    data = pd.read_csv(movies_path, low_memory=False)\n",
    "    data_2 = pd.read_csv(credits_path)\n",
    "\n",
    "    # Nettoyage des données en supprimant certaines colonnes\n",
    "    data = data.drop([\"adult\", \"belongs_to_collection\", \"budget\", \"homepage\", \"imdb_id\", \"original_language\", \"overview\", \"status\", \"poster_path\", \"production_companies\", \"popularity\", \"revenue\", \"tagline\", \"release_date\", \"video\", \"vote_average\", \"vote_count\"], axis=1)\n",
    "    data_2 = data_2.drop([\"crew\"], axis=1)\n",
    "\n",
    "    # S'assurer que la colonne 'id' est du même type dans les deux DataFrames\n",
    "    data['id'] = pd.to_numeric(data['id'], errors='coerce')\n",
    "    data_2['id'] = pd.to_numeric(data_2['id'], errors='coerce')\n",
    "\n",
    "    # Supprimer les lignes avec des ID manquants ou mal formatés\n",
    "    data.dropna(subset=['id'], inplace=True)\n",
    "    data_2.dropna(subset=['id'], inplace=True)\n",
    "\n",
    "    # Fusion des DataFrames sur la colonne 'id'\n",
    "    all_data = data.merge(data_2, on='id')\n",
    "\n",
    "    # Suppression des lignes avec des valeurs manquantes\n",
    "    all_data.dropna(axis=0, inplace=True)\n",
    "\n",
    "    return all_data\n",
    "\n",
    "def get_data(movies_path: str = 'dataset/movies_metadata.csv', credits_path: str = 'dataset/credits.csv'):\n",
    "    return load_and_clean_data(movies_path, credits_path)\n"
   ]
  }
 ],
 "metadata": {
  "kernelspec": {
   "display_name": "Python 3",
   "language": "python",
   "name": "python3"
  },
  "language_info": {
   "codemirror_mode": {
    "name": "ipython",
    "version": 3
   },
   "file_extension": ".py",
   "mimetype": "text/x-python",
   "name": "python",
   "nbconvert_exporter": "python",
   "pygments_lexer": "ipython3",
   "version": "3.12.0"
  }
 },
 "nbformat": 4,
 "nbformat_minor": 2
}
